{
  "nbformat": 4,
  "nbformat_minor": 0,
  "metadata": {
    "colab": {
      "private_outputs": true,
      "provenance": []
    },
    "kernelspec": {
      "name": "python3",
      "display_name": "Python 3"
    },
    "language_info": {
      "name": "python"
    }
  },
  "cells": [
    {
      "cell_type": "markdown",
      "source": [
        "# print()"
      ],
      "metadata": {
        "id": "r9nVjn2rfkPh"
      }
    },
    {
      "cell_type": "code",
      "execution_count": null,
      "metadata": {
        "id": "f0bshjJVfjFj"
      },
      "outputs": [],
      "source": [
        "print(\"Hola, mundo!\")"
      ]
    },
    {
      "cell_type": "markdown",
      "source": [
        "# len()"
      ],
      "metadata": {
        "id": "nwwAh-Q1f1BH"
      }
    },
    {
      "cell_type": "code",
      "source": [
        "mi_lista = [1, 2, 3, 4]\n",
        "print(len(mi_lista))"
      ],
      "metadata": {
        "id": "yPbM61-5fzvT"
      },
      "execution_count": null,
      "outputs": []
    },
    {
      "cell_type": "markdown",
      "source": [
        "# input()"
      ],
      "metadata": {
        "id": "GAAny426f9u4"
      }
    },
    {
      "cell_type": "code",
      "source": [
        "nombre = input(\"¿Cúal es tu nombre? \")\n",
        "print(\"Hola, \" + nombre)"
      ],
      "metadata": {
        "id": "Qhw6kgSef98F"
      },
      "execution_count": null,
      "outputs": []
    },
    {
      "cell_type": "markdown",
      "source": [
        "# type()"
      ],
      "metadata": {
        "id": "joy2poqEgcdp"
      }
    },
    {
      "cell_type": "code",
      "source": [
        "print(type(10))\n",
        "print(type(3.14))\n",
        "print(type(\"Python\"))"
      ],
      "metadata": {
        "id": "ywjcXkIugafm"
      },
      "execution_count": null,
      "outputs": []
    },
    {
      "cell_type": "markdown",
      "source": [
        "# int()- float() - str()"
      ],
      "metadata": {
        "id": "LMXbDUakgwG7"
      }
    },
    {
      "cell_type": "code",
      "source": [
        "num_str = \"100\"\n",
        "num_int = int(num_str)\n",
        "num_float = float(num_str)\n",
        "print(type(num_int))\n",
        "print(type(num_float))"
      ],
      "metadata": {
        "id": "msuo5_MXgwR3"
      },
      "execution_count": null,
      "outputs": []
    },
    {
      "cell_type": "markdown",
      "source": [
        "# range()"
      ],
      "metadata": {
        "id": "8YK8dWaUhJ5n"
      }
    },
    {
      "cell_type": "code",
      "source": [
        "for i in range(5):\n",
        "    print(i)"
      ],
      "metadata": {
        "id": "el01YbdJhKBk"
      },
      "execution_count": null,
      "outputs": []
    },
    {
      "cell_type": "markdown",
      "source": [
        "# enumerate()"
      ],
      "metadata": {
        "id": "AjCmNjX9hVgZ"
      }
    },
    {
      "cell_type": "code",
      "source": [
        "lista = ['a', 'b', 'c']\n",
        "for indice, valor in enumerate(lista):\n",
        "    print(indice, valor)"
      ],
      "metadata": {
        "id": "rU3it_EShVpB"
      },
      "execution_count": null,
      "outputs": []
    },
    {
      "cell_type": "markdown",
      "source": [
        "# open()"
      ],
      "metadata": {
        "id": "kk-7I2D6ixCB"
      }
    },
    {
      "cell_type": "code",
      "source": [
        "with open('archivo.txt', 'r') as f:\n",
        "    contenido = f.read()\n",
        "    print(contenido)"
      ],
      "metadata": {
        "id": "99nIcicEivNE"
      },
      "execution_count": null,
      "outputs": []
    },
    {
      "cell_type": "markdown",
      "source": [
        "# map()"
      ],
      "metadata": {
        "id": "TcnFT2mRjaLn"
      }
    },
    {
      "cell_type": "code",
      "source": [
        "def cuadrado(x):\n",
        "    return x * x\n",
        "\n",
        "numeros = [1, 2, 3, 4]\n",
        "resultado = map(cuadrado, numeros)\n",
        "print(list(resultado))"
      ],
      "metadata": {
        "id": "fkj7IA_xjZp9"
      },
      "execution_count": null,
      "outputs": []
    },
    {
      "cell_type": "markdown",
      "source": [
        "# list() - dict() - set()"
      ],
      "metadata": {
        "id": "xv_gPitmjlsQ"
      }
    },
    {
      "cell_type": "code",
      "source": [
        "lista = list((1, 2, 3))\n",
        "diccionario = dict(a=1, b=2)\n",
        "conjunto = set([1, 2, 2, 3])\n",
        "print(lista)         # Salida: [1, 2, 3]\n",
        "print(diccionario)   # Salida: {'a': 1, 'b': 2}\n",
        "print(conjunto)      # Salida: {1, 2, 3}"
      ],
      "metadata": {
        "id": "U370Dqghjl2k"
      },
      "execution_count": null,
      "outputs": []
    },
    {
      "cell_type": "markdown",
      "source": [
        "# filter()"
      ],
      "metadata": {
        "id": "FxEKhHLaj8E_"
      }
    },
    {
      "cell_type": "code",
      "source": [
        "def es_par(x):\n",
        "    return x % 2 == 0\n",
        "\n",
        "numeros = [1, 2, 3, 4, 5, 6]\n",
        "pares = filter(es_par, numeros)\n",
        "print(list(pares))  # Salida: [2, 4, 6]"
      ],
      "metadata": {
        "id": "9tAJe93-j8Ph"
      },
      "execution_count": null,
      "outputs": []
    },
    {
      "cell_type": "markdown",
      "source": [
        "# any() - all()"
      ],
      "metadata": {
        "id": "KRkZ06QzkQxA"
      }
    },
    {
      "cell_type": "code",
      "source": [
        "lista = [True, False, True]\n",
        "print(any(lista))  # Salida: True\n",
        "print(all(lista))  # Salida: False"
      ],
      "metadata": {
        "id": "93duod5ykQ7q"
      },
      "execution_count": null,
      "outputs": []
    },
    {
      "cell_type": "markdown",
      "source": [
        "# abs() - round()"
      ],
      "metadata": {
        "id": "KIK1lKqtko_D"
      }
    },
    {
      "cell_type": "code",
      "source": [
        "print(abs(-5))           # Salida: 5\n",
        "print(round(3.1416, 2))  # Salida: 3.14"
      ],
      "metadata": {
        "id": "_Q3RwgM-koaC"
      },
      "execution_count": null,
      "outputs": []
    },
    {
      "cell_type": "markdown",
      "source": [
        "# isinstance()"
      ],
      "metadata": {
        "id": "F-cCr1bflgv_"
      }
    },
    {
      "cell_type": "code",
      "source": [
        "print(isinstance(5, int))\n",
        "print(isinstance(\"hola\", str))\n",
        "print(isinstance(3.14, int))"
      ],
      "metadata": {
        "id": "BKx15vhllgCK"
      },
      "execution_count": null,
      "outputs": []
    }
  ]
}